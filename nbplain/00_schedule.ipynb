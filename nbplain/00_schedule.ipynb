{
 "cells": [
  {
   "cell_type": "markdown",
   "metadata": {
    "slideshow": {
     "slide_type": "slide"
    }
   },
   "source": [
    "# Exascale continuum mechanics through code generation"
   ]
  },
  {
   "cell_type": "markdown",
   "metadata": {
    "slideshow": {
     "slide_type": "fragment"
    }
   },
   "source": [
    "## **Tuesday 24th - Wednesday 25th November**"
   ]
  },
  {
   "cell_type": "markdown",
   "metadata": {
    "slideshow": {
     "slide_type": "slide"
    }
   },
   "source": [
    "The research being undertaken by the GenX project uses code generation to solve extremely large scale problems in continuum mechanics.\n",
    "Each individual's domain specific knowledge combined with the composability of different software components are leading us towards high performance simulations ready for upcoming exascale hardware.\n",
    "\n",
    "As part of our ongoing research programme the GenX working group are holding a workshop to discuss and attempt to answer some [key questions](#Discussion) about the future of continuum mechanics and code generation as we approach exascale."
   ]
  },
  {
   "cell_type": "markdown",
   "metadata": {
    "slideshow": {
     "slide_type": "slide"
    }
   },
   "source": [
    "## Information: Register here\n",
    "\n",
    "To register please fill in the Google form in order to attend the online workshop.\n",
    "\n",
    "[**Register here**](https://forms.gle/6xw3GRwsfy7atHt16)\n",
    "\n",
    "If you wish to submit a topic for panel discussion, you can do so via the registration form."
   ]
  },
  {
   "cell_type": "markdown",
   "metadata": {
    "slideshow": {
     "slide_type": "slide"
    }
   },
   "source": [
    "## Format\n",
    "\n",
    "The workshop will take the format of an online panel dicussion with invited panellists. This will be followed by several breakout discussions on specific topics, with a consolidation to conclude. See the [schedule](#-Schedule%3A-Tuesday-24th-November%20) below."
   ]
  },
  {
   "cell_type": "markdown",
   "metadata": {
    "slideshow": {
     "slide_type": "slide"
    }
   },
   "source": [
    "## Panellists:\n",
    "| Name | Affiliation |\n",
    "|---|---|\n",
    "| Michael Bader        | TUM |\n",
    "| Laura Grigori        | INRIA Paris |\n",
    "| Matt Knepley         | SUNY Buffalo |\n",
    "| Phil Schwan\t       | DownUnder Geoscience |"
   ]
  },
  {
   "cell_type": "markdown",
   "metadata": {
    "slideshow": {
     "slide_type": "slide"
    }
   },
   "source": [
    "## Discussion\n",
    "\n",
    "We will set out to discuss the following main points:\n",
    "- What new science and engineering could exascale continuum mechanics simulation deliver?\n",
    "- What component processes do each science or engineering application depend on?\n",
    "- What needs to change in each component process to make exascale simulation a reality?\n",
    "With additional questions and suggestions from other participants.\n",
    "\n",
    "We are also hoping you will join for a beverage of your chosing after the workshop on Wednesday."
   ]
  },
  {
   "cell_type": "markdown",
   "metadata": {
    "slideshow": {
     "slide_type": "slide"
    }
   },
   "source": [
    "## Schedule: Tuesday 24th November\n",
    "\n",
    "All times shown are UK time (GMT)\n",
    "\n",
    "| Time | ... | Description |\n",
    "|---|---|---|\n",
    "| 14:00 | Introduction | Working group and panellists |\n",
    "| 14:10 | Panel Discussion | |\n",
    "| 15:40 | Break | Coffee |\n",
    "| 16:00 | Breakout discussions | New potential in science and engineering |\n",
    "| 17:00 | Close | |\n"
   ]
  },
  {
   "cell_type": "markdown",
   "metadata": {
    "slideshow": {
     "slide_type": "slide"
    }
   },
   "source": [
    "## Schedule: Wednesday 25th November\n",
    "\n",
    "All times shown are UK time (GMT)\n",
    "\n",
    "| Time | ... | Description |\n",
    "|---|---|---|\n",
    "| 14:00 | Recap | |\n",
    "| 14:10 | Breakout discussions | Component processes |\n",
    "| 15:10 | Break | Coffee |\n",
    "| 15:30 | Breakout discussions | Required new capabilities |\n",
    "| 16:30 | Consolidation | |\n",
    "| 17:00 | Close | Casual drinks |\n"
   ]
  },
  {
   "cell_type": "markdown",
   "metadata": {
    "slideshow": {
     "slide_type": "slide"
    }
   },
   "source": []
  },
  {
   "cell_type": "markdown",
   "metadata": {
    "slideshow": {
     "slide_type": "slide"
    }
   },
   "source": [
    "Any enquiries email [J.Betteridge@imperial.ac.uk](mailto:J.Betteridge@imperial.ac.uk)"
   ]
  }
 ],
 "metadata": {
  "celltoolbar": "Slideshow",
  "kernelspec": {
   "display_name": "Python 3",
   "language": "python",
   "name": "python3"
  },
  "language_info": {
   "codemirror_mode": {
    "name": "ipython",
    "version": 3
   },
   "file_extension": ".py",
   "mimetype": "text/x-python",
   "name": "python",
   "nbconvert_exporter": "python",
   "pygments_lexer": "ipython3",
   "version": "3.8.6"
  }
 },
 "nbformat": 4,
 "nbformat_minor": 2
}
